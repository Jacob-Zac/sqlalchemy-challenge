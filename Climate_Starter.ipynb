# To add a new cell, type '# %%'
# To add a new markdown cell, type '# %% [markdown]'
# %%
from IPython import get_ipython

# %%
get_ipython().run_line_magic('matplotlib', 'inline')
from matplotlib import style
style.use('fivethirtyeight')
import matplotlib.pyplot as plt


# %%
import numpy as np
import pandas as pd
import datetime as dt

# %% [markdown]
# # Reflect Tables into SQLAlchemy ORM

# %%
# Python SQL toolkit and Object Relational Mapper
import sqlalchemy
from sqlalchemy.ext.automap import automap_base
from sqlalchemy.orm import Session
from sqlalchemy import create_engine, func


# %%
# create engine to hawaii.sqlite
engine = create_engine("sqlite:///hawaii.sqlite")


# %%
# reflect an existing database into a new model
Base = automap_base()
# reflect the tables
Base.prepare(engine, reflect=True)


# %%
# View all of the classes that automap found
Base.classes.keys()


# %%
# Save references to each table


# %%
# Create our session (link) from Python to the DB

# %% [markdown]
# # Exploratory Precipitation Analysis

# %%
# Find the most recent date in the data set.


# %%
# Design a query to retrieve the last 12 months of precipitation data and plot the results. 
# Starting from the most recent data point in the database. 

# Calculate the date one year from the last date in data set.


# Perform a query to retrieve the data and precipitation scores


# Save the query results as a Pandas DataFrame and set the index to the date column


# Sort the dataframe by date


# Use Pandas Plotting with Matplotlib to plot the data



# %%
# Use Pandas to calcualte the summary statistics for the precipitation data

# %% [markdown]
# # Exploratory Station Analysis

# %%
# Design a query to calculate the total number stations in the dataset


# %%
# Design a query to find the most active stations (i.e. what stations have the most rows?)
# List the stations and the counts in descending order.


# %%
# Using the most active station id from the previous query, calculate the lowest, highest, and average temperature.


# %%
# Using the most active station id
# Query the last 12 months of temperature observation data for this station and plot the results as a histogram

# %% [markdown]
# # Close session

# %%
# Close Session
session.close()


# %%



